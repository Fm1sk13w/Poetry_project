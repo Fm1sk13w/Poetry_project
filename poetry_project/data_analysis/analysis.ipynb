{
 "cells": [
  {
   "cell_type": "markdown",
   "id": "8885140d",
   "metadata": {},
   "source": [
    "#### **Imports**"
   ]
  },
  {
   "cell_type": "code",
   "execution_count": 1,
   "id": "89ebc1bd",
   "metadata": {},
   "outputs": [],
   "source": [
    "import pandas as pd\n",
    "import seaborn as sns\n",
    "import matplotlib.pyplot as plt\n",
    "from scipy.stats import pearsonr\n",
    "\n",
    "from poetry_project.scraper.author_scraper import get_poets_by_poem_range\n",
    "from poetry_project.pipeline import build_authors_database\n",
    "from poetry_project.utils.analysis_utils import compute_author_metrics"
   ]
  },
  {
   "cell_type": "markdown",
   "id": "d4e43325",
   "metadata": {},
   "source": [
    "#### **Scrapping poets and creating poems database**"
   ]
  },
  {
   "cell_type": "code",
   "execution_count": 2,
   "id": "2cd3ffa0",
   "metadata": {},
   "outputs": [
    {
     "name": "stdout",
     "output_type": "stream",
     "text": [
      "[('Christina Rossetti', 74)]\n"
     ]
    },
    {
     "data": {
      "text/html": [
       "<div>\n",
       "<style scoped>\n",
       "    .dataframe tbody tr th:only-of-type {\n",
       "        vertical-align: middle;\n",
       "    }\n",
       "\n",
       "    .dataframe tbody tr th {\n",
       "        vertical-align: top;\n",
       "    }\n",
       "\n",
       "    .dataframe thead th {\n",
       "        text-align: right;\n",
       "    }\n",
       "</style>\n",
       "<table border=\"1\" class=\"dataframe\">\n",
       "  <thead>\n",
       "    <tr style=\"text-align: right;\">\n",
       "      <th></th>\n",
       "      <th>author</th>\n",
       "      <th>birth_year</th>\n",
       "      <th>avg_poem_length</th>\n",
       "      <th>rhyme_percentage</th>\n",
       "    </tr>\n",
       "  </thead>\n",
       "  <tbody>\n",
       "    <tr>\n",
       "      <th>0</th>\n",
       "      <td>Christina Rossetti</td>\n",
       "      <td>1830</td>\n",
       "      <td>68.013514</td>\n",
       "      <td>68.918919</td>\n",
       "    </tr>\n",
       "  </tbody>\n",
       "</table>\n",
       "</div>"
      ],
      "text/plain": [
       "               author  birth_year  avg_poem_length  rhyme_percentage\n",
       "0  Christina Rossetti        1830        68.013514         68.918919"
      ]
     },
     "execution_count": 2,
     "metadata": {},
     "output_type": "execute_result"
    }
   ],
   "source": [
    "# Fetch list of prolific poets\n",
    "poets = get_poets_by_poem_range(min_poems=70, max_poems=90)  # adjust thresholds as desired\n",
    "print(poets)\n",
    "\n",
    "# Build Author objects with metadata and poems\n",
    "authors = build_authors_database(poets, max_workers=4)\n",
    "\n",
    "# Compile a DataFrame of metrics\n",
    "df = compute_author_metrics(authors, rhyme_tolerance=0.7)\n",
    "\n",
    "# Inspect the DataFrame\n",
    "df.head()"
   ]
  },
  {
   "cell_type": "code",
   "execution_count": null,
   "id": "afe3e439",
   "metadata": {},
   "outputs": [],
   "source": []
  }
 ],
 "metadata": {
  "kernelspec": {
   "display_name": "Python 3",
   "language": "python",
   "name": "python3"
  },
  "language_info": {
   "codemirror_mode": {
    "name": "ipython",
    "version": 3
   },
   "file_extension": ".py",
   "mimetype": "text/x-python",
   "name": "python",
   "nbconvert_exporter": "python",
   "pygments_lexer": "ipython3",
   "version": "3.12.5"
  }
 },
 "nbformat": 4,
 "nbformat_minor": 5
}
